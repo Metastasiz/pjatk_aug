{
 "cells": [
  {
   "cell_type": "markdown",
   "id": "97f62a2d-79e3-4a13-8481-8fadbc8555a2",
   "metadata": {},
   "source": [
    "Lexical analysis\n",
    "\n",
    "lexems are elementary syntactic building blocks\n",
    "typical lexems:\n",
    "- identifiers\n",
    "- keywords\n",
    "- string const\n",
    "- integer or real number\n",
    "- arithmetical ops and relations\n",
    "- all punctuations symbols\n",
    "\n",
    "lexems are defined by tokens and attributes, e.g.\n",
    "\n",
    "<head>\"something\"RIGHT\n",
    "\n",
    "lexem | token | attribute\n",
    "<head | open-tag | \"<head\"\n",
    "> | close-tag | \">\"\n",
    "\"something\" | string | \"something\"\n",
    "RIGHT | text | \"RIGHT\"\n",
    "\n",
    "lexems should be maximal if it is the same type, e.g.\n",
    "\n",
    "for != lexem \"f\" + \"o\" + \"r\", but \"for\"\n",
    "\n",
    "def of named patterns\n",
    "\n",
    "name | pattern\n",
    "digit | [0-9]\n",
    "digits | {digit}+"
   ]
  },
  {
   "cell_type": "markdown",
   "id": "b57a2534-9c1a-4163-9402-2ed430783289",
   "metadata": {},
   "source": [
    "Flex Specifications\n",
    "\n",
    "%{\n",
    "declarations to be included\n",
    "%}\n",
    "def of named patterns\n",
    "%%\n",
    "lexems recognition rules\n",
    "%%\n",
    "additional procedures def\n",
    "\n",
    "lexems recognition rules:\n",
    "for each token, should be 1 rule of the form:\n",
    "pattern { code calculating attribute and return the token }\n"
   ]
  },
  {
   "cell_type": "markdown",
   "id": "cdd41575-ba2a-417c-8fa5-1fbbeef46b4a",
   "metadata": {},
   "source": [
    "lexem matching rule:\n",
    "- longest pattern is first matched\n",
    "- if same length, first pattern matched\n",
    "- when code is executed, it should calculate the attribute store it in a fixed global viriable and return the token\n",
    "- "
   ]
  },
  {
   "cell_type": "markdown",
   "id": "2b56cebb-fbd7-471e-be36-2420a3e75c98",
   "metadata": {},
   "source": [
    "e.g. of a scanner\n",
    "\n",
    "%{\n",
    "using namespace std;\n",
    "#include <iostream>\n",
    "%}\n",
    "%%\n",
    "FOO cout << \"Foo\";\n",
    "BAR cout << \"Bar\";\n",
    "FOOBAR cout << \"Foobar\";\n",
    "%%\n",
    "int main(){\n",
    "    yylex();\n",
    "    return 0;\n",
    "}"
   ]
  },
  {
   "cell_type": "markdown",
   "id": "e6a227b3-2322-4a9c-9ccd-16e50c3ed3f1",
   "metadata": {},
   "source": [
    "%{\n",
    "using namespace std;\n",
    "#include <iostream>\n",
    "%}\n",
    "token and pattern for number and stuff\n",
    "%%\n",
    "{number} { cout << atof(yytext) << \", \";}\n",
    ". { /*nothing*/}\n",
    "%%\n",
    "int main(){\n",
    "    yylex();\n",
    "    cout << endl;\n",
    "    return 0;\n",
    "}"
   ]
  },
  {
   "cell_type": "code",
   "execution_count": null,
   "id": "78f38252-7c89-4369-bfd4-676e41a64768",
   "metadata": {},
   "outputs": [],
   "source": [
    "macro mode\n",
    "%s Names = inclusive\n",
    "%x Names = exclusive\n",
    "default mode = INITIAL\n",
    "matching the current mode: <MODE>pattern\n",
    "switch between modes: BEGIN(MODE)"
   ]
  },
  {
   "cell_type": "markdown",
   "id": "1b57d88a-49cc-4849-8125-92fa1f824343",
   "metadata": {},
   "source": [
    "%}\n",
    "\n",
    "%x COMMENT\n",
    "\n",
    "%%\n",
    "\"/*\" {BEGIN(COMMENT);}\n",
    "<COMMENT>\"*/\" {BEGIN(INITIAL)}\n",
    "<COMMNET>(.|\\n) { /* nothing */ }\n",
    "%%"
   ]
  },
  {
   "cell_type": "code",
   "execution_count": 2,
   "id": "5bf9e602-ad81-4894-a38b-7df73cabd1fd",
   "metadata": {},
   "outputs": [
    {
     "ename": "SyntaxError",
     "evalue": "unterminated string literal (detected at line 1) (3242312068.py, line 1)",
     "output_type": "error",
     "traceback": [
      "\u001b[0;36m  Cell \u001b[0;32mIn[2], line 1\u001b[0;36m\u001b[0m\n\u001b[0;31m    print(\"\\\"\"\")\u001b[0m\n\u001b[0m              ^\u001b[0m\n\u001b[0;31mSyntaxError\u001b[0m\u001b[0;31m:\u001b[0m unterminated string literal (detected at line 1)\n"
     ]
    }
   ],
   "source": []
  },
  {
   "cell_type": "code",
   "execution_count": null,
   "id": "17ff8abd-0179-464d-812a-b236d6753663",
   "metadata": {},
   "outputs": [],
   "source": []
  }
 ],
 "metadata": {
  "kernelspec": {
   "display_name": "Python 3 (ipykernel)",
   "language": "python",
   "name": "python3"
  },
  "language_info": {
   "codemirror_mode": {
    "name": "ipython",
    "version": 3
   },
   "file_extension": ".py",
   "mimetype": "text/x-python",
   "name": "python",
   "nbconvert_exporter": "python",
   "pygments_lexer": "ipython3",
   "version": "3.10.12"
  }
 },
 "nbformat": 4,
 "nbformat_minor": 5
}
